{
 "cells": [
  {
   "cell_type": "code",
   "execution_count": 52,
   "id": "eed4bf9d",
   "metadata": {},
   "outputs": [],
   "source": [
    "import pandas as pd\n",
    "import jax.numpy as jnp\n",
    "import numpy as np\n",
    "from causaltensor.cauest import MC_NNM_with_cross_validation"
   ]
  },
  {
   "cell_type": "code",
   "execution_count": 53,
   "id": "77d161e0",
   "metadata": {},
   "outputs": [
    {
     "name": "stdout",
     "output_type": "stream",
     "text": [
      "  % Total    % Received % Xferd  Average Speed   Time    Time     Time  Current\n",
      "                                 Dload  Upload   Total   Spent    Left  Speed\n",
      "  0     0    0     0    0     0      0      0 --:--:-- --:--:-- --:--:--     0\n",
      "100  6868  100  6868    0     0  10118      0 --:--:-- --:--:-- --:--:-- 10118\n",
      "Archive:  Synth.zip\n",
      "  inflating: synth_code.m            \n",
      "  inflating: readme_synth_matlab.txt  \n",
      "  inflating: MLAB_data.txt           \n",
      "  inflating: loss_function.m         \n"
     ]
    }
   ],
   "source": [
    "!curl https://github.com/TianyiPeng/causaltensor/raw/main/tutorials/Synth.zip -L -o Synth.zip\n",
    "!unzip -o Synth.zip"
   ]
  },
  {
   "cell_type": "code",
   "execution_count": 54,
   "id": "5e274257",
   "metadata": {},
   "outputs": [],
   "source": [
    "O_raw = np.loadtxt('MLAB_data.txt')\n",
    "O = O_raw[8:, :] ## remove features that are not relevant in this demo\n",
    "O = O.T"
   ]
  },
  {
   "cell_type": "code",
   "execution_count": 55,
   "id": "f001a1c0",
   "metadata": {},
   "outputs": [
    {
     "data": {
      "text/plain": [
       "[<matplotlib.lines.Line2D at 0x134915750>]"
      ]
     },
     "execution_count": 55,
     "metadata": {},
     "output_type": "execute_result"
    },
    {
     "data": {
      "image/png": "[encoded data removed]",
      "text/plain": [
       "<Figure size 640x480 with 1 Axes>"
      ]
     },
     "metadata": {},
     "output_type": "display_data"
    }
   ],
   "source": [
    "import matplotlib.pyplot as plt\n",
    "\n",
    "plt.plot(O[-1, :])"
   ]
  },
  {
   "cell_type": "code",
   "execution_count": 56,
   "id": "6a9985cf",
   "metadata": {},
   "outputs": [],
   "source": [
    "  Z = np.zeros_like(O) # Z has the same shape as O\n",
    "  Z[-1, 19:] = 1 #Only California (the last row) used the intervention, which started in 1989"
   ]
  },
  {
   "cell_type": "code",
   "execution_count": 57,
   "id": "81cbe9b8",
   "metadata": {},
   "outputs": [
    {
     "data": {
      "text/plain": [
       "array([[ 89.80000305,  95.40000153, 101.0999985 , ..., 106.1999969 ,\n",
       "        100.6999969 ,  96.19999695],\n",
       "       [100.3000031 , 104.0999985 , 103.9000015 , ..., 109.5       ,\n",
       "        104.8000031 ,  99.40000153],\n",
       "       [124.8000031 , 125.5       , 134.3000031 , ...,  81.19999695,\n",
       "         79.59999847,  73.        ],\n",
       "       ...,\n",
       "       [106.4000015 , 105.4000015 , 108.8000031 , ...,  88.69999695,\n",
       "         84.40000153,  80.09999847],\n",
       "       [132.1999969 , 131.6999969 , 140.        , ..., 102.9000015 ,\n",
       "        104.8000031 ,  90.5       ],\n",
       "       [123.        , 121.        , 123.5       , ...,  52.29999924,\n",
       "         47.20000076,  41.59999847]], shape=(39, 31))"
      ]
     },
     "execution_count": 57,
     "metadata": {},
     "output_type": "execute_result"
    }
   ],
   "source": [
    "O"
   ]
  },
  {
   "cell_type": "code",
   "execution_count": 58,
   "id": "f0572587",
   "metadata": {},
   "outputs": [
    {
     "data": {
      "text/plain": [
       "array([[0., 0., 0., ..., 0., 0., 0.],\n",
       "       [0., 0., 0., ..., 0., 0., 0.],\n",
       "       [0., 0., 0., ..., 0., 0., 0.],\n",
       "       ...,\n",
       "       [0., 0., 0., ..., 0., 0., 0.],\n",
       "       [0., 0., 0., ..., 0., 0., 0.],\n",
       "       [0., 0., 0., ..., 1., 1., 1.]], shape=(39, 31))"
      ]
     },
     "execution_count": 58,
     "metadata": {},
     "output_type": "execute_result"
    }
   ],
   "source": [
    "Z"
   ]
  },
  {
   "cell_type": "code",
   "execution_count": 59,
   "id": "b67ea8c9",
   "metadata": {},
   "outputs": [
    {
     "name": "stderr",
     "output_type": "stream",
     "text": [
      "/Users/wooyongpark/Dropbox/01 Coursework/02 Stat/08 Deep Learning/final-project/.venv/lib/python3.10/site-packages/causaltensor/matlib/util.py:15: RuntimeWarning: divide by zero encountered in matmul\n",
      "  A = M @ M.T # this will speed up the calculation when M is asymmetric\n",
      "/Users/wooyongpark/Dropbox/01 Coursework/02 Stat/08 Deep Learning/final-project/.venv/lib/python3.10/site-packages/causaltensor/matlib/util.py:15: RuntimeWarning: overflow encountered in matmul\n",
      "  A = M @ M.T # this will speed up the calculation when M is asymmetric\n",
      "/Users/wooyongpark/Dropbox/01 Coursework/02 Stat/08 Deep Learning/final-project/.venv/lib/python3.10/site-packages/causaltensor/matlib/util.py:15: RuntimeWarning: invalid value encountered in matmul\n",
      "  A = M @ M.T # this will speed up the calculation when M is asymmetric\n",
      "/Users/wooyongpark/Dropbox/01 Coursework/02 Stat/08 Deep Learning/final-project/.venv/lib/python3.10/site-packages/causaltensor/matlib/util.py:20: RuntimeWarning: divide by zero encountered in matmul\n",
      "  vh = sinv.reshape(M.shape[0], 1) * (uh @ M)\n",
      "/Users/wooyongpark/Dropbox/01 Coursework/02 Stat/08 Deep Learning/final-project/.venv/lib/python3.10/site-packages/causaltensor/matlib/util.py:20: RuntimeWarning: overflow encountered in matmul\n",
      "  vh = sinv.reshape(M.shape[0], 1) * (uh @ M)\n",
      "/Users/wooyongpark/Dropbox/01 Coursework/02 Stat/08 Deep Learning/final-project/.venv/lib/python3.10/site-packages/causaltensor/matlib/util.py:20: RuntimeWarning: invalid value encountered in matmul\n",
      "  vh = sinv.reshape(M.shape[0], 1) * (uh @ M)\n"
     ]
    }
   ],
   "source": [
    "M, a, b, tau = MC_NNM_with_cross_validation(O, 1-Z)"
   ]
  },
  {
   "cell_type": "code",
   "execution_count": 60,
   "id": "f24a4433",
   "metadata": {},
   "outputs": [
    {
     "data": {
      "text/plain": [
       "array([[ 93.2497022 ,  97.52192686, 100.35838766, ..., 103.05166255,\n",
       "         98.44589062,  95.0333005 ],\n",
       "       [102.37124087, 104.64654957, 105.10474358, ..., 107.52822072,\n",
       "        103.24344936, 100.59110725],\n",
       "       [122.60399891, 125.62511774, 132.30752756, ...,  82.6952723 ,\n",
       "         80.37364544,  74.26929255],\n",
       "       ...,\n",
       "       [103.66460803, 105.94381582, 108.10116343, ...,  88.83986896,\n",
       "         86.05631748,  81.15903311],\n",
       "       [130.57848977, 131.91925197, 141.45209842, ..., 104.73486783,\n",
       "        102.81612802,  94.33834233],\n",
       "       [116.91094251, 119.86130346, 124.63742444, ...,  80.01314942,\n",
       "         78.37382431,  71.3764984 ]], shape=(39, 31))"
      ]
     },
     "execution_count": 60,
     "metadata": {},
     "output_type": "execute_result"
    }
   ],
   "source": [
    "M_broadcasted = M + a + b.T\n",
    "M_broadcasted"
   ]
  },
  {
   "cell_type": "code",
   "execution_count": 61,
   "id": "0d3e6f25",
   "metadata": {},
   "outputs": [
    {
     "data": {
      "text/plain": [
       "array([[ 89.80000305,  95.40000153, 101.0999985 , ..., 106.1999969 ,\n",
       "        100.6999969 ,  96.19999695],\n",
       "       [100.3000031 , 104.0999985 , 103.9000015 , ..., 109.5       ,\n",
       "        104.8000031 ,  99.40000153],\n",
       "       [124.8000031 , 125.5       , 134.3000031 , ...,  81.19999695,\n",
       "         79.59999847,  73.        ],\n",
       "       ...,\n",
       "       [106.4000015 , 105.4000015 , 108.8000031 , ...,  88.69999695,\n",
       "         84.40000153,  80.09999847],\n",
       "       [132.1999969 , 131.6999969 , 140.        , ..., 102.9000015 ,\n",
       "        104.8000031 ,  90.5       ],\n",
       "       [123.        , 121.        , 123.5       , ...,  52.29999924,\n",
       "         47.20000076,  41.59999847]], shape=(39, 31))"
      ]
     },
     "execution_count": 61,
     "metadata": {},
     "output_type": "execute_result"
    }
   ],
   "source": [
    "O"
   ]
  },
  {
   "cell_type": "code",
   "execution_count": 62,
   "id": "f507872a",
   "metadata": {},
   "outputs": [
    {
     "data": {
      "text/plain": [
       "array([[123.        , 121.        , 123.5       , 124.4000015 ,\n",
       "        126.6999969 , 127.0999985 , 128.        , 126.4000015 ,\n",
       "        126.0999985 , 121.9000015 , 120.1999969 , 118.5999985 ,\n",
       "        115.4000015 , 110.8000031 , 104.8000031 , 102.8000031 ,\n",
       "         99.69999695,  97.5       ,  90.09999847,  82.40000153,\n",
       "         77.80000305,  68.69999695,  67.5       ,  63.40000153,\n",
       "         58.59999847,  56.40000153,  54.5       ,  53.79999924,\n",
       "         52.29999924,  47.20000076,  41.59999847],\n",
       "       [116.91094251, 119.86130346, 124.63742444, 123.58745834,\n",
       "        124.72635644, 125.26984225, 129.01365827, 127.40715702,\n",
       "        125.52238868, 122.13371552, 120.29264117, 120.03038952,\n",
       "        116.96177818, 112.11714124, 105.06179576, 103.00196199,\n",
       "        100.07405584,  98.65330748,  92.73668191,  89.32095896,\n",
       "         84.65199665,  81.6352497 ,  80.81546529,  81.1126648 ,\n",
       "         79.85416308,  80.97155417,  79.67270552,  79.61219442,\n",
       "         80.01314942,  78.37382431,  71.3764984 ]])"
      ]
     },
     "execution_count": 62,
     "metadata": {},
     "output_type": "execute_result"
    }
   ],
   "source": [
    "# Merge the last row of O and M into a new array with shape (2, O.shape[1])\n",
    "merged_last_rows = np.vstack([O[-1, :], M_broadcasted[-1, :]])\n",
    "merged_last_rows\n"
   ]
  },
  {
   "cell_type": "code",
   "execution_count": null,
   "id": "e24e70da",
   "metadata": {},
   "outputs": [
    {
     "data": {
      "application/vnd.microsoft.datawrangler.viewer.v0+json": {
       "columns": [
        {
         "name": "index",
         "rawType": "int64",
         "type": "integer"
        },
        {
         "name": "O_california",
         "rawType": "float64",
         "type": "float"
        },
        {
         "name": "M_california",
         "rawType": "float64",
         "type": "float"
        }
       ],
       "ref": "0a9866c9-337e-40ab-87aa-af29275b1c46",
       "rows": [
        [
         "0",
         "123.0",
         "116.91094251333845"
        ],
        [
         "1",
         "121.0",
         "119.86130345643726"
        ],
        [
         "2",
         "123.5",
         "124.63742444277625"
        ],
        [
         "3",
         "124.4000015",
         "123.58745833911584"
        ],
        [
         "4",
         "126.6999969",
         "124.72635643630792"
        ],
        [
         "5",
         "127.0999985",
         "125.26984225391132"
        ],
        [
         "6",
         "128.0",
         "129.01365827141618"
        ],
        [
         "7",
         "126.4000015",
         "127.40715701974543"
        ],
        [
         "8",
         "126.0999985",
         "125.5223886819016"
        ],
        [
         "9",
         "121.9000015",
         "122.13371551819702"
        ],
        [
         "10",
         "120.1999969",
         "120.29264116551322"
        ],
        [
         "11",
         "118.5999985",
         "120.03038952289388"
        ],
        [
         "12",
         "115.4000015",
         "116.96177817718208"
        ],
        [
         "13",
         "110.8000031",
         "112.11714123656822"
        ],
        [
         "14",
         "104.8000031",
         "105.06179576055656"
        ],
        [
         "15",
         "102.8000031",
         "103.0019619862801"
        ],
        [
         "16",
         "99.69999695",
         "100.07405584495442"
        ],
        [
         "17",
         "97.5",
         "98.65330748030698"
        ],
        [
         "18",
         "90.09999847",
         "92.73668191259718"
        ],
        [
         "19",
         "82.40000153",
         "89.32095896411816"
        ],
        [
         "20",
         "77.80000305",
         "84.65199665084545"
        ],
        [
         "21",
         "68.69999695",
         "81.63524969808984"
        ],
        [
         "22",
         "67.5",
         "80.81546528597418"
        ],
        [
         "23",
         "63.40000153",
         "81.11266479978492"
        ],
        [
         "24",
         "58.59999847",
         "79.8541630790712"
        ],
        [
         "25",
         "56.40000153",
         "80.97155416555202"
        ],
        [
         "26",
         "54.5",
         "79.67270551905311"
        ],
        [
         "27",
         "53.79999924",
         "79.61219442129334"
        ],
        [
         "28",
         "52.29999924",
         "80.01314941625179"
        ],
        [
         "29",
         "47.20000076",
         "78.37382430667107"
        ],
        [
         "30",
         "41.59999847",
         "71.37649839618746"
        ]
       ],
       "shape": {
        "columns": 2,
        "rows": 31
       }
      },
      "text/html": [
       "<div>\n",
       "<style scoped>\n",
       "    .dataframe tbody tr th:only-of-type {\n",
       "        vertical-align: middle;\n",
       "    }\n",
       "\n",
       "    .dataframe tbody tr th {\n",
       "        vertical-align: top;\n",
       "    }\n",
       "\n",
       "    .dataframe thead th {\n",
       "        text-align: right;\n",
       "    }\n",
       "</style>\n",
       "<table border=\"1\" class=\"dataframe\">\n",
       "  <thead>\n",
       "    <tr style=\"text-align: right;\">\n",
       "      <th></th>\n",
       "      <th>O_california</th>\n",
       "      <th>M_california</th>\n",
       "    </tr>\n",
       "  </thead>\n",
       "  <tbody>\n",
       "    <tr>\n",
       "      <th>0</th>\n",
       "      <td>123.000000</td>\n",
       "      <td>116.910943</td>\n",
       "    </tr>\n",
       "    <tr>\n",
       "      <th>1</th>\n",
       "      <td>121.000000</td>\n",
       "      <td>119.861303</td>\n",
       "    </tr>\n",
       "    <tr>\n",
       "      <th>2</th>\n",
       "      <td>123.500000</td>\n",
       "      <td>124.637424</td>\n",
       "    </tr>\n",
       "    <tr>\n",
       "      <th>3</th>\n",
       "      <td>124.400002</td>\n",
       "      <td>123.587458</td>\n",
       "    </tr>\n",
       "    <tr>\n",
       "      <th>4</th>\n",
       "      <td>126.699997</td>\n",
       "      <td>124.726356</td>\n",
       "    </tr>\n",
       "    <tr>\n",
       "      <th>5</th>\n",
       "      <td>127.099998</td>\n",
       "      <td>125.269842</td>\n",
       "    </tr>\n",
       "    <tr>\n",
       "      <th>6</th>\n",
       "      <td>128.000000</td>\n",
       "      <td>129.013658</td>\n",
       "    </tr>\n",
       "    <tr>\n",
       "      <th>7</th>\n",
       "      <td>126.400002</td>\n",
       "      <td>127.407157</td>\n",
       "    </tr>\n",
       "    <tr>\n",
       "      <th>8</th>\n",
       "      <td>126.099998</td>\n",
       "      <td>125.522389</td>\n",
       "    </tr>\n",
       "    <tr>\n",
       "      <th>9</th>\n",
       "      <td>121.900002</td>\n",
       "      <td>122.133716</td>\n",
       "    </tr>\n",
       "    <tr>\n",
       "      <th>10</th>\n",
       "      <td>120.199997</td>\n",
       "      <td>120.292641</td>\n",
       "    </tr>\n",
       "    <tr>\n",
       "      <th>11</th>\n",
       "      <td>118.599998</td>\n",
       "      <td>120.030390</td>\n",
       "    </tr>\n",
       "    <tr>\n",
       "      <th>12</th>\n",
       "      <td>115.400002</td>\n",
       "      <td>116.961778</td>\n",
       "    </tr>\n",
       "    <tr>\n",
       "      <th>13</th>\n",
       "      <td>110.800003</td>\n",
       "      <td>112.117141</td>\n",
       "    </tr>\n",
       "    <tr>\n",
       "      <th>14</th>\n",
       "      <td>104.800003</td>\n",
       "      <td>105.061796</td>\n",
       "    </tr>\n",
       "    <tr>\n",
       "      <th>15</th>\n",
       "      <td>102.800003</td>\n",
       "      <td>103.001962</td>\n",
       "    </tr>\n",
       "    <tr>\n",
       "      <th>16</th>\n",
       "      <td>99.699997</td>\n",
       "      <td>100.074056</td>\n",
       "    </tr>\n",
       "    <tr>\n",
       "      <th>17</th>\n",
       "      <td>97.500000</td>\n",
       "      <td>98.653307</td>\n",
       "    </tr>\n",
       "    <tr>\n",
       "      <th>18</th>\n",
       "      <td>90.099998</td>\n",
       "      <td>92.736682</td>\n",
       "    </tr>\n",
       "    <tr>\n",
       "      <th>19</th>\n",
       "      <td>82.400002</td>\n",
       "      <td>89.320959</td>\n",
       "    </tr>\n",
       "    <tr>\n",
       "      <th>20</th>\n",
       "      <td>77.800003</td>\n",
       "      <td>84.651997</td>\n",
       "    </tr>\n",
       "    <tr>\n",
       "      <th>21</th>\n",
       "      <td>68.699997</td>\n",
       "      <td>81.635250</td>\n",
       "    </tr>\n",
       "    <tr>\n",
       "      <th>22</th>\n",
       "      <td>67.500000</td>\n",
       "      <td>80.815465</td>\n",
       "    </tr>\n",
       "    <tr>\n",
       "      <th>23</th>\n",
       "      <td>63.400002</td>\n",
       "      <td>81.112665</td>\n",
       "    </tr>\n",
       "    <tr>\n",
       "      <th>24</th>\n",
       "      <td>58.599998</td>\n",
       "      <td>79.854163</td>\n",
       "    </tr>\n",
       "    <tr>\n",
       "      <th>25</th>\n",
       "      <td>56.400002</td>\n",
       "      <td>80.971554</td>\n",
       "    </tr>\n",
       "    <tr>\n",
       "      <th>26</th>\n",
       "      <td>54.500000</td>\n",
       "      <td>79.672706</td>\n",
       "    </tr>\n",
       "    <tr>\n",
       "      <th>27</th>\n",
       "      <td>53.799999</td>\n",
       "      <td>79.612194</td>\n",
       "    </tr>\n",
       "    <tr>\n",
       "      <th>28</th>\n",
       "      <td>52.299999</td>\n",
       "      <td>80.013149</td>\n",
       "    </tr>\n",
       "    <tr>\n",
       "      <th>29</th>\n",
       "      <td>47.200001</td>\n",
       "      <td>78.373824</td>\n",
       "    </tr>\n",
       "    <tr>\n",
       "      <th>30</th>\n",
       "      <td>41.599998</td>\n",
       "      <td>71.376498</td>\n",
       "    </tr>\n",
       "  </tbody>\n",
       "</table>\n",
       "</div>"
      ],
      "text/plain": [
       "    O_california  M_california\n",
       "0     123.000000    116.910943\n",
       "1     121.000000    119.861303\n",
       "2     123.500000    124.637424\n",
       "3     124.400002    123.587458\n",
       "4     126.699997    124.726356\n",
       "5     127.099998    125.269842\n",
       "6     128.000000    129.013658\n",
       "7     126.400002    127.407157\n",
       "8     126.099998    125.522389\n",
       "9     121.900002    122.133716\n",
       "10    120.199997    120.292641\n",
       "11    118.599998    120.030390\n",
       "12    115.400002    116.961778\n",
       "13    110.800003    112.117141\n",
       "14    104.800003    105.061796\n",
       "15    102.800003    103.001962\n",
       "16     99.699997    100.074056\n",
       "17     97.500000     98.653307\n",
       "18     90.099998     92.736682\n",
       "19     82.400002     89.320959\n",
       "20     77.800003     84.651997\n",
       "21     68.699997     81.635250\n",
       "22     67.500000     80.815465\n",
       "23     63.400002     81.112665\n",
       "24     58.599998     79.854163\n",
       "25     56.400002     80.971554\n",
       "26     54.500000     79.672706\n",
       "27     53.799999     79.612194\n",
       "28     52.299999     80.013149\n",
       "29     47.200001     78.373824\n",
       "30     41.599998     71.376498"
      ]
     },
     "execution_count": 63,
     "metadata": {},
     "output_type": "execute_result"
    }
   ],
   "source": [
    "import pandas as pd\n",
    "\n",
    "merged_last_rows_df = pd.DataFrame({\n",
    "    'O_california': merged_last_rows[0],\n",
    "    'M_california': merged_last_rows[1]\n",
    "})\n",
    "merged_last_rows_df"
   ]
  },
  {
   "cell_type": "code",
   "execution_count": null,
   "id": "720b5bb4",
   "metadata": {},
   "outputs": [
    {
     "data": {
      "image/png": "[encoded data removed]",
      "text/plain": [
       "<Figure size 1000x600 with 1 Axes>"
      ]
     },
     "metadata": {},
     "output_type": "display_data"
    }
   ],
   "source": [
    "plt.figure(figsize=(10, 6))\n",
    "plt.plot(np.arange(1970,2001), merged_last_rows_df[\"O_california\"], color='black', label='Actual', linestyle='-')\n",
    "plt.plot(np.arange(1970,2001), merged_last_rows_df[\"M_california\"], color='black', label='Imputed', linestyle='--')\n",
    "plt.xlabel('Year')\n",
    "plt.ylabel('Cigarette Sales')\n",
    "plt.title('Actual vs Imputed Cigarette Sales for State 3')\n",
    "plt.legend()\n",
    "plt.axvline(x=1988, color='red', linestyle=':', linewidth=2)\n",
    "plt.text(1988 + 0.2, plt.ylim()[1]*0.95, \"Passage of Proposition 99\", color='red', rotation=90, va='top')\n",
    "plt.tight_layout()\n",
    "plt.show()"
   ]
  },
  {
   "cell_type": "code",
   "execution_count": 75,
   "id": "67673ff7",
   "metadata": {},
   "outputs": [],
   "source": [
    "# Placebo test for State 6 (4)\n",
    "\n",
    "O_placebo = O[:-1]\n",
    "Z = np.zeros_like(O_placebo) # Z has the same shape as O\n",
    "Z[4, 19:] = 1 "
   ]
  },
  {
   "cell_type": "code",
   "execution_count": 76,
   "id": "07bd9829",
   "metadata": {},
   "outputs": [
    {
     "name": "stderr",
     "output_type": "stream",
     "text": [
      "/Users/wooyongpark/Dropbox/01 Coursework/02 Stat/08 Deep Learning/final-project/.venv/lib/python3.10/site-packages/causaltensor/matlib/util.py:15: RuntimeWarning: divide by zero encountered in matmul\n",
      "  A = M @ M.T # this will speed up the calculation when M is asymmetric\n",
      "/Users/wooyongpark/Dropbox/01 Coursework/02 Stat/08 Deep Learning/final-project/.venv/lib/python3.10/site-packages/causaltensor/matlib/util.py:15: RuntimeWarning: overflow encountered in matmul\n",
      "  A = M @ M.T # this will speed up the calculation when M is asymmetric\n",
      "/Users/wooyongpark/Dropbox/01 Coursework/02 Stat/08 Deep Learning/final-project/.venv/lib/python3.10/site-packages/causaltensor/matlib/util.py:15: RuntimeWarning: invalid value encountered in matmul\n",
      "  A = M @ M.T # this will speed up the calculation when M is asymmetric\n",
      "/Users/wooyongpark/Dropbox/01 Coursework/02 Stat/08 Deep Learning/final-project/.venv/lib/python3.10/site-packages/causaltensor/matlib/util.py:20: RuntimeWarning: divide by zero encountered in matmul\n",
      "  vh = sinv.reshape(M.shape[0], 1) * (uh @ M)\n",
      "/Users/wooyongpark/Dropbox/01 Coursework/02 Stat/08 Deep Learning/final-project/.venv/lib/python3.10/site-packages/causaltensor/matlib/util.py:20: RuntimeWarning: overflow encountered in matmul\n",
      "  vh = sinv.reshape(M.shape[0], 1) * (uh @ M)\n",
      "/Users/wooyongpark/Dropbox/01 Coursework/02 Stat/08 Deep Learning/final-project/.venv/lib/python3.10/site-packages/causaltensor/matlib/util.py:20: RuntimeWarning: invalid value encountered in matmul\n",
      "  vh = sinv.reshape(M.shape[0], 1) * (uh @ M)\n"
     ]
    }
   ],
   "source": [
    "M, a, b, tau = MC_NNM_with_cross_validation(O_placebo, 1-Z)\n",
    "M_broadcasted = M + a + b.T"
   ]
  },
  {
   "cell_type": "code",
   "execution_count": 78,
   "id": "27535574",
   "metadata": {},
   "outputs": [
    {
     "data": {
      "application/vnd.microsoft.datawrangler.viewer.v0+json": {
       "columns": [
        {
         "name": "index",
         "rawType": "int64",
         "type": "integer"
        },
        {
         "name": "O_placebo",
         "rawType": "float64",
         "type": "float"
        },
        {
         "name": "M_placebo",
         "rawType": "float64",
         "type": "float"
        }
       ],
       "ref": "62845345-4d20-447c-acce-bd6036cdec1a",
       "rows": [
        [
         "0",
         "155.0",
         "152.34532703072853"
        ],
        [
         "1",
         "161.1000061",
         "155.40169262387303"
        ],
        [
         "2",
         "156.3000031",
         "155.53448285411412"
        ],
        [
         "3",
         "154.6999969",
         "151.92106614174673"
        ],
        [
         "4",
         "151.3000031",
         "152.4090564671036"
        ],
        [
         "5",
         "147.6000061",
         "151.02505198401497"
        ],
        [
         "6",
         "153.0",
         "154.43570025026668"
        ],
        [
         "7",
         "153.3000031",
         "154.97298815560438"
        ],
        [
         "8",
         "155.5",
         "155.76312260484355"
        ],
        [
         "9",
         "150.1999969",
         "153.36124786579617"
        ],
        [
         "10",
         "150.5",
         "153.82047251948987"
        ],
        [
         "11",
         "152.6000061",
         "154.02968865415448"
        ],
        [
         "12",
         "154.1000061",
         "151.93299592250457"
        ],
        [
         "13",
         "149.6000061",
         "149.22124681670562"
        ],
        [
         "14",
         "144.0",
         "145.3905824757656"
        ],
        [
         "15",
         "144.5",
         "143.76475631670655"
        ],
        [
         "16",
         "142.3999939",
         "141.70815406619346"
        ],
        [
         "17",
         "141.0",
         "141.75183791696335"
        ],
        [
         "18",
         "137.1000061",
         "135.01056293342455"
        ],
        [
         "19",
         "131.6999969",
         "131.46294393896508"
        ],
        [
         "20",
         "127.1999969",
         "125.14703005486405"
        ],
        [
         "21",
         "118.8000031",
         "123.57930576065071"
        ],
        [
         "22",
         "120.0",
         "122.56476703762979"
        ],
        [
         "23",
         "123.8000031",
         "122.34312309837415"
        ],
        [
         "24",
         "126.0999985",
         "120.67344139115282"
        ],
        [
         "25",
         "127.1999969",
         "120.26918299832853"
        ],
        [
         "26",
         "128.3000031",
         "118.65463819434154"
        ],
        [
         "27",
         "124.0999985",
         "119.28771850668072"
        ],
        [
         "28",
         "132.8000031",
         "120.49168355465929"
        ],
        [
         "29",
         "139.5",
         "117.94113721433749"
        ],
        [
         "30",
         "140.6999969",
         "112.0764015891247"
        ]
       ],
       "shape": {
        "columns": 2,
        "rows": 31
       }
      },
      "text/html": [
       "<div>\n",
       "<style scoped>\n",
       "    .dataframe tbody tr th:only-of-type {\n",
       "        vertical-align: middle;\n",
       "    }\n",
       "\n",
       "    .dataframe tbody tr th {\n",
       "        vertical-align: top;\n",
       "    }\n",
       "\n",
       "    .dataframe thead th {\n",
       "        text-align: right;\n",
       "    }\n",
       "</style>\n",
       "<table border=\"1\" class=\"dataframe\">\n",
       "  <thead>\n",
       "    <tr style=\"text-align: right;\">\n",
       "      <th></th>\n",
       "      <th>O_placebo</th>\n",
       "      <th>M_placebo</th>\n",
       "    </tr>\n",
       "  </thead>\n",
       "  <tbody>\n",
       "    <tr>\n",
       "      <th>0</th>\n",
       "      <td>155.000000</td>\n",
       "      <td>152.345327</td>\n",
       "    </tr>\n",
       "    <tr>\n",
       "      <th>1</th>\n",
       "      <td>161.100006</td>\n",
       "      <td>155.401693</td>\n",
       "    </tr>\n",
       "    <tr>\n",
       "      <th>2</th>\n",
       "      <td>156.300003</td>\n",
       "      <td>155.534483</td>\n",
       "    </tr>\n",
       "    <tr>\n",
       "      <th>3</th>\n",
       "      <td>154.699997</td>\n",
       "      <td>151.921066</td>\n",
       "    </tr>\n",
       "    <tr>\n",
       "      <th>4</th>\n",
       "      <td>151.300003</td>\n",
       "      <td>152.409056</td>\n",
       "    </tr>\n",
       "    <tr>\n",
       "      <th>5</th>\n",
       "      <td>147.600006</td>\n",
       "      <td>151.025052</td>\n",
       "    </tr>\n",
       "    <tr>\n",
       "      <th>6</th>\n",
       "      <td>153.000000</td>\n",
       "      <td>154.435700</td>\n",
       "    </tr>\n",
       "    <tr>\n",
       "      <th>7</th>\n",
       "      <td>153.300003</td>\n",
       "      <td>154.972988</td>\n",
       "    </tr>\n",
       "    <tr>\n",
       "      <th>8</th>\n",
       "      <td>155.500000</td>\n",
       "      <td>155.763123</td>\n",
       "    </tr>\n",
       "    <tr>\n",
       "      <th>9</th>\n",
       "      <td>150.199997</td>\n",
       "      <td>153.361248</td>\n",
       "    </tr>\n",
       "    <tr>\n",
       "      <th>10</th>\n",
       "      <td>150.500000</td>\n",
       "      <td>153.820473</td>\n",
       "    </tr>\n",
       "    <tr>\n",
       "      <th>11</th>\n",
       "      <td>152.600006</td>\n",
       "      <td>154.029689</td>\n",
       "    </tr>\n",
       "    <tr>\n",
       "      <th>12</th>\n",
       "      <td>154.100006</td>\n",
       "      <td>151.932996</td>\n",
       "    </tr>\n",
       "    <tr>\n",
       "      <th>13</th>\n",
       "      <td>149.600006</td>\n",
       "      <td>149.221247</td>\n",
       "    </tr>\n",
       "    <tr>\n",
       "      <th>14</th>\n",
       "      <td>144.000000</td>\n",
       "      <td>145.390582</td>\n",
       "    </tr>\n",
       "    <tr>\n",
       "      <th>15</th>\n",
       "      <td>144.500000</td>\n",
       "      <td>143.764756</td>\n",
       "    </tr>\n",
       "    <tr>\n",
       "      <th>16</th>\n",
       "      <td>142.399994</td>\n",
       "      <td>141.708154</td>\n",
       "    </tr>\n",
       "    <tr>\n",
       "      <th>17</th>\n",
       "      <td>141.000000</td>\n",
       "      <td>141.751838</td>\n",
       "    </tr>\n",
       "    <tr>\n",
       "      <th>18</th>\n",
       "      <td>137.100006</td>\n",
       "      <td>135.010563</td>\n",
       "    </tr>\n",
       "    <tr>\n",
       "      <th>19</th>\n",
       "      <td>131.699997</td>\n",
       "      <td>131.462944</td>\n",
       "    </tr>\n",
       "    <tr>\n",
       "      <th>20</th>\n",
       "      <td>127.199997</td>\n",
       "      <td>125.147030</td>\n",
       "    </tr>\n",
       "    <tr>\n",
       "      <th>21</th>\n",
       "      <td>118.800003</td>\n",
       "      <td>123.579306</td>\n",
       "    </tr>\n",
       "    <tr>\n",
       "      <th>22</th>\n",
       "      <td>120.000000</td>\n",
       "      <td>122.564767</td>\n",
       "    </tr>\n",
       "    <tr>\n",
       "      <th>23</th>\n",
       "      <td>123.800003</td>\n",
       "      <td>122.343123</td>\n",
       "    </tr>\n",
       "    <tr>\n",
       "      <th>24</th>\n",
       "      <td>126.099998</td>\n",
       "      <td>120.673441</td>\n",
       "    </tr>\n",
       "    <tr>\n",
       "      <th>25</th>\n",
       "      <td>127.199997</td>\n",
       "      <td>120.269183</td>\n",
       "    </tr>\n",
       "    <tr>\n",
       "      <th>26</th>\n",
       "      <td>128.300003</td>\n",
       "      <td>118.654638</td>\n",
       "    </tr>\n",
       "    <tr>\n",
       "      <th>27</th>\n",
       "      <td>124.099998</td>\n",
       "      <td>119.287719</td>\n",
       "    </tr>\n",
       "    <tr>\n",
       "      <th>28</th>\n",
       "      <td>132.800003</td>\n",
       "      <td>120.491684</td>\n",
       "    </tr>\n",
       "    <tr>\n",
       "      <th>29</th>\n",
       "      <td>139.500000</td>\n",
       "      <td>117.941137</td>\n",
       "    </tr>\n",
       "    <tr>\n",
       "      <th>30</th>\n",
       "      <td>140.699997</td>\n",
       "      <td>112.076402</td>\n",
       "    </tr>\n",
       "  </tbody>\n",
       "</table>\n",
       "</div>"
      ],
      "text/plain": [
       "     O_placebo   M_placebo\n",
       "0   155.000000  152.345327\n",
       "1   161.100006  155.401693\n",
       "2   156.300003  155.534483\n",
       "3   154.699997  151.921066\n",
       "4   151.300003  152.409056\n",
       "5   147.600006  151.025052\n",
       "6   153.000000  154.435700\n",
       "7   153.300003  154.972988\n",
       "8   155.500000  155.763123\n",
       "9   150.199997  153.361248\n",
       "10  150.500000  153.820473\n",
       "11  152.600006  154.029689\n",
       "12  154.100006  151.932996\n",
       "13  149.600006  149.221247\n",
       "14  144.000000  145.390582\n",
       "15  144.500000  143.764756\n",
       "16  142.399994  141.708154\n",
       "17  141.000000  141.751838\n",
       "18  137.100006  135.010563\n",
       "19  131.699997  131.462944\n",
       "20  127.199997  125.147030\n",
       "21  118.800003  123.579306\n",
       "22  120.000000  122.564767\n",
       "23  123.800003  122.343123\n",
       "24  126.099998  120.673441\n",
       "25  127.199997  120.269183\n",
       "26  128.300003  118.654638\n",
       "27  124.099998  119.287719\n",
       "28  132.800003  120.491684\n",
       "29  139.500000  117.941137\n",
       "30  140.699997  112.076402"
      ]
     },
     "execution_count": 78,
     "metadata": {},
     "output_type": "execute_result"
    }
   ],
   "source": [
    "merged_last_rows = np.vstack([O[4, :], M_broadcasted[4, :]])\n",
    "merged_last_rows\n",
    "merged_last_rows_df = pd.DataFrame({\n",
    "    'O_placebo': merged_last_rows[0],\n",
    "    'M_placebo': merged_last_rows[1]\n",
    "})\n",
    "merged_last_rows_df"
   ]
  },
  {
   "cell_type": "code",
   "execution_count": 79,
   "id": "6eabcf7b",
   "metadata": {},
   "outputs": [
    {
     "data": {
      "image/png": "[encoded data removed]",
      "text/plain": [
       "<Figure size 1000x600 with 1 Axes>"
      ]
     },
     "metadata": {},
     "output_type": "display_data"
    }
   ],
   "source": [
    "plt.figure(figsize=(10, 6))\n",
    "plt.plot(np.arange(1970,2001), merged_last_rows_df[\"O_placebo\"], color='black', label='Actual', linestyle='-')\n",
    "plt.plot(np.arange(1970,2001), merged_last_rows_df[\"M_placebo\"], color='black', label='Imputed', linestyle='--')\n",
    "plt.xlabel('Year')\n",
    "plt.ylabel('Cigarette Sales')\n",
    "plt.title('Actual vs Imputed Cigarette Sales for State 6 (Placebo)')\n",
    "plt.legend()\n",
    "plt.axvline(x=1988, color='red', linestyle=':', linewidth=2)\n",
    "plt.text(1988 + 0.2, plt.ylim()[1]*0.95, \"Passage of Proposition 99\", color='red', rotation=90, va='top')\n",
    "plt.tight_layout()\n",
    "plt.show()"
   ]
  },
  {
   "cell_type": "code",
   "execution_count": 80,
   "id": "4aed5c12",
   "metadata": {},
   "outputs": [],
   "source": [
    "# Placebo test for State 36 (34)\n",
    "O_placebo = O[:-1]\n",
    "Z = np.zeros_like(O_placebo) # Z has the same shape as O\n",
    "Z[34, 19:] = 1"
   ]
  },
  {
   "cell_type": "code",
   "execution_count": 82,
   "id": "baa63caa",
   "metadata": {},
   "outputs": [
    {
     "name": "stderr",
     "output_type": "stream",
     "text": [
      "/Users/wooyongpark/Dropbox/01 Coursework/02 Stat/08 Deep Learning/final-project/.venv/lib/python3.10/site-packages/causaltensor/matlib/util.py:15: RuntimeWarning: divide by zero encountered in matmul\n",
      "  A = M @ M.T # this will speed up the calculation when M is asymmetric\n",
      "/Users/wooyongpark/Dropbox/01 Coursework/02 Stat/08 Deep Learning/final-project/.venv/lib/python3.10/site-packages/causaltensor/matlib/util.py:15: RuntimeWarning: overflow encountered in matmul\n",
      "  A = M @ M.T # this will speed up the calculation when M is asymmetric\n",
      "/Users/wooyongpark/Dropbox/01 Coursework/02 Stat/08 Deep Learning/final-project/.venv/lib/python3.10/site-packages/causaltensor/matlib/util.py:15: RuntimeWarning: invalid value encountered in matmul\n",
      "  A = M @ M.T # this will speed up the calculation when M is asymmetric\n",
      "/Users/wooyongpark/Dropbox/01 Coursework/02 Stat/08 Deep Learning/final-project/.venv/lib/python3.10/site-packages/causaltensor/matlib/util.py:20: RuntimeWarning: divide by zero encountered in matmul\n",
      "  vh = sinv.reshape(M.shape[0], 1) * (uh @ M)\n",
      "/Users/wooyongpark/Dropbox/01 Coursework/02 Stat/08 Deep Learning/final-project/.venv/lib/python3.10/site-packages/causaltensor/matlib/util.py:20: RuntimeWarning: overflow encountered in matmul\n",
      "  vh = sinv.reshape(M.shape[0], 1) * (uh @ M)\n",
      "/Users/wooyongpark/Dropbox/01 Coursework/02 Stat/08 Deep Learning/final-project/.venv/lib/python3.10/site-packages/causaltensor/matlib/util.py:20: RuntimeWarning: invalid value encountered in matmul\n",
      "  vh = sinv.reshape(M.shape[0], 1) * (uh @ M)\n"
     ]
    },
    {
     "data": {
      "application/vnd.microsoft.datawrangler.viewer.v0+json": {
       "columns": [
        {
         "name": "index",
         "rawType": "int64",
         "type": "integer"
        },
        {
         "name": "O_placebo",
         "rawType": "float64",
         "type": "float"
        },
        {
         "name": "M_placebo",
         "rawType": "float64",
         "type": "float"
        }
       ],
       "ref": "cbeef789-15fd-48ab-8148-9149160bd5e9",
       "rows": [
        [
         "0",
         "124.3000031",
         "126.06442804293474"
        ],
        [
         "1",
         "128.3999939",
         "130.80054772911188"
        ],
        [
         "2",
         "137.0",
         "138.31346031266807"
        ],
        [
         "3",
         "143.1000061",
         "144.09212009249467"
        ],
        [
         "4",
         "149.6000061",
         "148.64170001185096"
        ],
        [
         "5",
         "152.6999969",
         "151.8939393404548"
        ],
        [
         "6",
         "158.1000061",
         "156.13479728420396"
        ],
        [
         "7",
         "157.6999969",
         "155.8635375763831"
        ],
        [
         "8",
         "155.8999939",
         "154.28022991273045"
        ],
        [
         "9",
         "151.8000031",
         "151.38292173030644"
        ],
        [
         "10",
         "148.8999939",
         "151.55442038627257"
        ],
        [
         "11",
         "149.8999939",
         "150.50290175198802"
        ],
        [
         "12",
         "147.3999939",
         "149.2967194996114"
        ],
        [
         "13",
         "144.6999969",
         "143.86664422503685"
        ],
        [
         "14",
         "136.8000031",
         "137.03516028609718"
        ],
        [
         "15",
         "134.6000061",
         "135.9634700118457"
        ],
        [
         "16",
         "135.8000031",
         "134.06022172972598"
        ],
        [
         "17",
         "133.0",
         "130.7038671055788"
        ],
        [
         "18",
         "129.5",
         "128.74890997070406"
        ],
        [
         "19",
         "122.5",
         "124.45134341687617"
        ],
        [
         "20",
         "118.9000015",
         "121.92039657018023"
        ],
        [
         "21",
         "109.0999985",
         "120.38566007740806"
        ],
        [
         "22",
         "108.1999969",
         "119.0368168673849"
        ],
        [
         "23",
         "105.4000015",
         "117.97632144407582"
        ],
        [
         "24",
         "106.1999969",
         "116.52857916122124"
        ],
        [
         "25",
         "106.6999969",
         "118.4465759735528"
        ],
        [
         "26",
         "104.5999985",
         "116.63450165591416"
        ],
        [
         "27",
         "108.0",
         "117.84240123809127"
        ],
        [
         "28",
         "105.5999985",
         "116.05576929582453"
        ],
        [
         "29",
         "102.0999985",
         "111.20295568624563"
        ],
        [
         "30",
         "96.69999695",
         "105.95555159900958"
        ]
       ],
       "shape": {
        "columns": 2,
        "rows": 31
       }
      },
      "text/html": [
       "<div>\n",
       "<style scoped>\n",
       "    .dataframe tbody tr th:only-of-type {\n",
       "        vertical-align: middle;\n",
       "    }\n",
       "\n",
       "    .dataframe tbody tr th {\n",
       "        vertical-align: top;\n",
       "    }\n",
       "\n",
       "    .dataframe thead th {\n",
       "        text-align: right;\n",
       "    }\n",
       "</style>\n",
       "<table border=\"1\" class=\"dataframe\">\n",
       "  <thead>\n",
       "    <tr style=\"text-align: right;\">\n",
       "      <th></th>\n",
       "      <th>O_placebo</th>\n",
       "      <th>M_placebo</th>\n",
       "    </tr>\n",
       "  </thead>\n",
       "  <tbody>\n",
       "    <tr>\n",
       "      <th>0</th>\n",
       "      <td>124.300003</td>\n",
       "      <td>126.064428</td>\n",
       "    </tr>\n",
       "    <tr>\n",
       "      <th>1</th>\n",
       "      <td>128.399994</td>\n",
       "      <td>130.800548</td>\n",
       "    </tr>\n",
       "    <tr>\n",
       "      <th>2</th>\n",
       "      <td>137.000000</td>\n",
       "      <td>138.313460</td>\n",
       "    </tr>\n",
       "    <tr>\n",
       "      <th>3</th>\n",
       "      <td>143.100006</td>\n",
       "      <td>144.092120</td>\n",
       "    </tr>\n",
       "    <tr>\n",
       "      <th>4</th>\n",
       "      <td>149.600006</td>\n",
       "      <td>148.641700</td>\n",
       "    </tr>\n",
       "    <tr>\n",
       "      <th>5</th>\n",
       "      <td>152.699997</td>\n",
       "      <td>151.893939</td>\n",
       "    </tr>\n",
       "    <tr>\n",
       "      <th>6</th>\n",
       "      <td>158.100006</td>\n",
       "      <td>156.134797</td>\n",
       "    </tr>\n",
       "    <tr>\n",
       "      <th>7</th>\n",
       "      <td>157.699997</td>\n",
       "      <td>155.863538</td>\n",
       "    </tr>\n",
       "    <tr>\n",
       "      <th>8</th>\n",
       "      <td>155.899994</td>\n",
       "      <td>154.280230</td>\n",
       "    </tr>\n",
       "    <tr>\n",
       "      <th>9</th>\n",
       "      <td>151.800003</td>\n",
       "      <td>151.382922</td>\n",
       "    </tr>\n",
       "    <tr>\n",
       "      <th>10</th>\n",
       "      <td>148.899994</td>\n",
       "      <td>151.554420</td>\n",
       "    </tr>\n",
       "    <tr>\n",
       "      <th>11</th>\n",
       "      <td>149.899994</td>\n",
       "      <td>150.502902</td>\n",
       "    </tr>\n",
       "    <tr>\n",
       "      <th>12</th>\n",
       "      <td>147.399994</td>\n",
       "      <td>149.296719</td>\n",
       "    </tr>\n",
       "    <tr>\n",
       "      <th>13</th>\n",
       "      <td>144.699997</td>\n",
       "      <td>143.866644</td>\n",
       "    </tr>\n",
       "    <tr>\n",
       "      <th>14</th>\n",
       "      <td>136.800003</td>\n",
       "      <td>137.035160</td>\n",
       "    </tr>\n",
       "    <tr>\n",
       "      <th>15</th>\n",
       "      <td>134.600006</td>\n",
       "      <td>135.963470</td>\n",
       "    </tr>\n",
       "    <tr>\n",
       "      <th>16</th>\n",
       "      <td>135.800003</td>\n",
       "      <td>134.060222</td>\n",
       "    </tr>\n",
       "    <tr>\n",
       "      <th>17</th>\n",
       "      <td>133.000000</td>\n",
       "      <td>130.703867</td>\n",
       "    </tr>\n",
       "    <tr>\n",
       "      <th>18</th>\n",
       "      <td>129.500000</td>\n",
       "      <td>128.748910</td>\n",
       "    </tr>\n",
       "    <tr>\n",
       "      <th>19</th>\n",
       "      <td>122.500000</td>\n",
       "      <td>124.451343</td>\n",
       "    </tr>\n",
       "    <tr>\n",
       "      <th>20</th>\n",
       "      <td>118.900002</td>\n",
       "      <td>121.920397</td>\n",
       "    </tr>\n",
       "    <tr>\n",
       "      <th>21</th>\n",
       "      <td>109.099998</td>\n",
       "      <td>120.385660</td>\n",
       "    </tr>\n",
       "    <tr>\n",
       "      <th>22</th>\n",
       "      <td>108.199997</td>\n",
       "      <td>119.036817</td>\n",
       "    </tr>\n",
       "    <tr>\n",
       "      <th>23</th>\n",
       "      <td>105.400002</td>\n",
       "      <td>117.976321</td>\n",
       "    </tr>\n",
       "    <tr>\n",
       "      <th>24</th>\n",
       "      <td>106.199997</td>\n",
       "      <td>116.528579</td>\n",
       "    </tr>\n",
       "    <tr>\n",
       "      <th>25</th>\n",
       "      <td>106.699997</td>\n",
       "      <td>118.446576</td>\n",
       "    </tr>\n",
       "    <tr>\n",
       "      <th>26</th>\n",
       "      <td>104.599998</td>\n",
       "      <td>116.634502</td>\n",
       "    </tr>\n",
       "    <tr>\n",
       "      <th>27</th>\n",
       "      <td>108.000000</td>\n",
       "      <td>117.842401</td>\n",
       "    </tr>\n",
       "    <tr>\n",
       "      <th>28</th>\n",
       "      <td>105.599998</td>\n",
       "      <td>116.055769</td>\n",
       "    </tr>\n",
       "    <tr>\n",
       "      <th>29</th>\n",
       "      <td>102.099998</td>\n",
       "      <td>111.202956</td>\n",
       "    </tr>\n",
       "    <tr>\n",
       "      <th>30</th>\n",
       "      <td>96.699997</td>\n",
       "      <td>105.955552</td>\n",
       "    </tr>\n",
       "  </tbody>\n",
       "</table>\n",
       "</div>"
      ],
      "text/plain": [
       "     O_placebo   M_placebo\n",
       "0   124.300003  126.064428\n",
       "1   128.399994  130.800548\n",
       "2   137.000000  138.313460\n",
       "3   143.100006  144.092120\n",
       "4   149.600006  148.641700\n",
       "5   152.699997  151.893939\n",
       "6   158.100006  156.134797\n",
       "7   157.699997  155.863538\n",
       "8   155.899994  154.280230\n",
       "9   151.800003  151.382922\n",
       "10  148.899994  151.554420\n",
       "11  149.899994  150.502902\n",
       "12  147.399994  149.296719\n",
       "13  144.699997  143.866644\n",
       "14  136.800003  137.035160\n",
       "15  134.600006  135.963470\n",
       "16  135.800003  134.060222\n",
       "17  133.000000  130.703867\n",
       "18  129.500000  128.748910\n",
       "19  122.500000  124.451343\n",
       "20  118.900002  121.920397\n",
       "21  109.099998  120.385660\n",
       "22  108.199997  119.036817\n",
       "23  105.400002  117.976321\n",
       "24  106.199997  116.528579\n",
       "25  106.699997  118.446576\n",
       "26  104.599998  116.634502\n",
       "27  108.000000  117.842401\n",
       "28  105.599998  116.055769\n",
       "29  102.099998  111.202956\n",
       "30   96.699997  105.955552"
      ]
     },
     "execution_count": 82,
     "metadata": {},
     "output_type": "execute_result"
    }
   ],
   "source": [
    "M, a, b, tau = MC_NNM_with_cross_validation(O_placebo, 1-Z)\n",
    "M_broadcasted = M + a + b.T\n",
    "merged_last_rows = np.vstack([O[34, :], M_broadcasted[34, :]])\n",
    "merged_last_rows_df = pd.DataFrame({\n",
    "    'O_placebo': merged_last_rows[0],\n",
    "    'M_placebo': merged_last_rows[1]\n",
    "})\n",
    "merged_last_rows_df"
   ]
  },
  {
   "cell_type": "code",
   "execution_count": 83,
   "id": "685ad50c",
   "metadata": {},
   "outputs": [
    {
     "data": {
      "image/png": "[encoded data removed]",
      "text/plain": [
       "<Figure size 1000x600 with 1 Axes>"
      ]
     },
     "metadata": {},
     "output_type": "display_data"
    }
   ],
   "source": [
    "plt.figure(figsize=(10, 6))\n",
    "plt.plot(np.arange(1970,2001), merged_last_rows_df[\"O_placebo\"], color='black', label='Actual', linestyle='-')\n",
    "plt.plot(np.arange(1970,2001), merged_last_rows_df[\"M_placebo\"], color='black', label='Imputed', linestyle='--')\n",
    "plt.xlabel('Year')\n",
    "plt.ylabel('Cigarette Sales')\n",
    "plt.title('Actual vs Imputed Cigarette Sales for State 36 (Placebo)')\n",
    "plt.legend()\n",
    "plt.axvline(x=1988, color='red', linestyle=':', linewidth=2)\n",
    "plt.text(1988 + 0.2, plt.ylim()[1]*0.95, \"Passage of Proposition 99\", color='red', rotation=90, va='top')\n",
    "plt.tight_layout()\n",
    "plt.show()"
   ]
  },
  {
   "cell_type": "code",
   "execution_count": 84,
   "id": "467054c0",
   "metadata": {},
   "outputs": [],
   "source": [
    "# Placebo test for State 39 (37)\n",
    "O_placebo = O[:-1]\n",
    "Z = np.zeros_like(O_placebo) # Z has the same shape as O\n",
    "Z[37, 19:] = 1"
   ]
  },
  {
   "cell_type": "code",
   "execution_count": 85,
   "id": "6ea792c3",
   "metadata": {},
   "outputs": [
    {
     "name": "stderr",
     "output_type": "stream",
     "text": [
      "/Users/wooyongpark/Dropbox/01 Coursework/02 Stat/08 Deep Learning/final-project/.venv/lib/python3.10/site-packages/causaltensor/matlib/util.py:15: RuntimeWarning: divide by zero encountered in matmul\n",
      "  A = M @ M.T # this will speed up the calculation when M is asymmetric\n",
      "/Users/wooyongpark/Dropbox/01 Coursework/02 Stat/08 Deep Learning/final-project/.venv/lib/python3.10/site-packages/causaltensor/matlib/util.py:15: RuntimeWarning: overflow encountered in matmul\n",
      "  A = M @ M.T # this will speed up the calculation when M is asymmetric\n",
      "/Users/wooyongpark/Dropbox/01 Coursework/02 Stat/08 Deep Learning/final-project/.venv/lib/python3.10/site-packages/causaltensor/matlib/util.py:15: RuntimeWarning: invalid value encountered in matmul\n",
      "  A = M @ M.T # this will speed up the calculation when M is asymmetric\n",
      "/Users/wooyongpark/Dropbox/01 Coursework/02 Stat/08 Deep Learning/final-project/.venv/lib/python3.10/site-packages/causaltensor/matlib/util.py:20: RuntimeWarning: divide by zero encountered in matmul\n",
      "  vh = sinv.reshape(M.shape[0], 1) * (uh @ M)\n",
      "/Users/wooyongpark/Dropbox/01 Coursework/02 Stat/08 Deep Learning/final-project/.venv/lib/python3.10/site-packages/causaltensor/matlib/util.py:20: RuntimeWarning: overflow encountered in matmul\n",
      "  vh = sinv.reshape(M.shape[0], 1) * (uh @ M)\n",
      "/Users/wooyongpark/Dropbox/01 Coursework/02 Stat/08 Deep Learning/final-project/.venv/lib/python3.10/site-packages/causaltensor/matlib/util.py:20: RuntimeWarning: invalid value encountered in matmul\n",
      "  vh = sinv.reshape(M.shape[0], 1) * (uh @ M)\n"
     ]
    },
    {
     "data": {
      "application/vnd.microsoft.datawrangler.viewer.v0+json": {
       "columns": [
        {
         "name": "index",
         "rawType": "int64",
         "type": "integer"
        },
        {
         "name": "O_placebo",
         "rawType": "float64",
         "type": "float"
        },
        {
         "name": "M_placebo",
         "rawType": "float64",
         "type": "float"
        }
       ],
       "ref": "c9906bde-c90b-4418-ba91-6777ea9cb64b",
       "rows": [
        [
         "0",
         "132.1999969",
         "130.32872004357208"
        ],
        [
         "1",
         "131.6999969",
         "132.2655763508572"
        ],
        [
         "2",
         "140.0",
         "140.62917465663713"
        ],
        [
         "3",
         "141.1999969",
         "144.99833496567769"
        ],
        [
         "4",
         "145.8000031",
         "149.34626442420046"
        ],
        [
         "5",
         "160.6999969",
         "156.49763171875995"
        ],
        [
         "6",
         "161.5",
         "162.51409923237722"
        ],
        [
         "7",
         "160.3999939",
         "160.76669961689424"
        ],
        [
         "8",
         "160.3000031",
         "159.43234293776274"
        ],
        [
         "9",
         "168.6000061",
         "157.60220381732307"
        ],
        [
         "10",
         "158.1000061",
         "155.24497904723194"
        ],
        [
         "11",
         "163.1000061",
         "156.97167649215007"
        ],
        [
         "12",
         "157.6999969",
         "153.69744396592327"
        ],
        [
         "13",
         "141.1999969",
         "144.69781803661215"
        ],
        [
         "14",
         "128.8999939",
         "133.29491371457013"
        ],
        [
         "15",
         "125.6999969",
         "129.88795944698336"
        ],
        [
         "16",
         "124.8000031",
         "125.25434150969085"
        ],
        [
         "17",
         "110.4000015",
         "117.92782212041493"
        ],
        [
         "18",
         "114.3000031",
         "115.24199620236132"
        ],
        [
         "19",
         "111.4000015",
         "111.0631772710322"
        ],
        [
         "20",
         "96.90000153",
         "109.93775909304392"
        ],
        [
         "21",
         "109.0999985",
         "107.12870324939128"
        ],
        [
         "22",
         "110.8000031",
         "105.55887975570293"
        ],
        [
         "23",
         "108.4000015",
         "105.7706569057133"
        ],
        [
         "24",
         "111.1999969",
         "108.41948978786289"
        ],
        [
         "25",
         "115.0",
         "110.53068113530882"
        ],
        [
         "26",
         "110.3000031",
         "108.51382991470003"
        ],
        [
         "27",
         "108.8000031",
         "109.65836968184126"
        ],
        [
         "28",
         "102.9000015",
         "106.47739156898972"
        ],
        [
         "29",
         "104.8000031",
         "103.6688898155777"
        ],
        [
         "30",
         "90.5",
         "97.69742670522507"
        ]
       ],
       "shape": {
        "columns": 2,
        "rows": 31
       }
      },
      "text/html": [
       "<div>\n",
       "<style scoped>\n",
       "    .dataframe tbody tr th:only-of-type {\n",
       "        vertical-align: middle;\n",
       "    }\n",
       "\n",
       "    .dataframe tbody tr th {\n",
       "        vertical-align: top;\n",
       "    }\n",
       "\n",
       "    .dataframe thead th {\n",
       "        text-align: right;\n",
       "    }\n",
       "</style>\n",
       "<table border=\"1\" class=\"dataframe\">\n",
       "  <thead>\n",
       "    <tr style=\"text-align: right;\">\n",
       "      <th></th>\n",
       "      <th>O_placebo</th>\n",
       "      <th>M_placebo</th>\n",
       "    </tr>\n",
       "  </thead>\n",
       "  <tbody>\n",
       "    <tr>\n",
       "      <th>0</th>\n",
       "      <td>132.199997</td>\n",
       "      <td>130.328720</td>\n",
       "    </tr>\n",
       "    <tr>\n",
       "      <th>1</th>\n",
       "      <td>131.699997</td>\n",
       "      <td>132.265576</td>\n",
       "    </tr>\n",
       "    <tr>\n",
       "      <th>2</th>\n",
       "      <td>140.000000</td>\n",
       "      <td>140.629175</td>\n",
       "    </tr>\n",
       "    <tr>\n",
       "      <th>3</th>\n",
       "      <td>141.199997</td>\n",
       "      <td>144.998335</td>\n",
       "    </tr>\n",
       "    <tr>\n",
       "      <th>4</th>\n",
       "      <td>145.800003</td>\n",
       "      <td>149.346264</td>\n",
       "    </tr>\n",
       "    <tr>\n",
       "      <th>5</th>\n",
       "      <td>160.699997</td>\n",
       "      <td>156.497632</td>\n",
       "    </tr>\n",
       "    <tr>\n",
       "      <th>6</th>\n",
       "      <td>161.500000</td>\n",
       "      <td>162.514099</td>\n",
       "    </tr>\n",
       "    <tr>\n",
       "      <th>7</th>\n",
       "      <td>160.399994</td>\n",
       "      <td>160.766700</td>\n",
       "    </tr>\n",
       "    <tr>\n",
       "      <th>8</th>\n",
       "      <td>160.300003</td>\n",
       "      <td>159.432343</td>\n",
       "    </tr>\n",
       "    <tr>\n",
       "      <th>9</th>\n",
       "      <td>168.600006</td>\n",
       "      <td>157.602204</td>\n",
       "    </tr>\n",
       "    <tr>\n",
       "      <th>10</th>\n",
       "      <td>158.100006</td>\n",
       "      <td>155.244979</td>\n",
       "    </tr>\n",
       "    <tr>\n",
       "      <th>11</th>\n",
       "      <td>163.100006</td>\n",
       "      <td>156.971676</td>\n",
       "    </tr>\n",
       "    <tr>\n",
       "      <th>12</th>\n",
       "      <td>157.699997</td>\n",
       "      <td>153.697444</td>\n",
       "    </tr>\n",
       "    <tr>\n",
       "      <th>13</th>\n",
       "      <td>141.199997</td>\n",
       "      <td>144.697818</td>\n",
       "    </tr>\n",
       "    <tr>\n",
       "      <th>14</th>\n",
       "      <td>128.899994</td>\n",
       "      <td>133.294914</td>\n",
       "    </tr>\n",
       "    <tr>\n",
       "      <th>15</th>\n",
       "      <td>125.699997</td>\n",
       "      <td>129.887959</td>\n",
       "    </tr>\n",
       "    <tr>\n",
       "      <th>16</th>\n",
       "      <td>124.800003</td>\n",
       "      <td>125.254342</td>\n",
       "    </tr>\n",
       "    <tr>\n",
       "      <th>17</th>\n",
       "      <td>110.400002</td>\n",
       "      <td>117.927822</td>\n",
       "    </tr>\n",
       "    <tr>\n",
       "      <th>18</th>\n",
       "      <td>114.300003</td>\n",
       "      <td>115.241996</td>\n",
       "    </tr>\n",
       "    <tr>\n",
       "      <th>19</th>\n",
       "      <td>111.400002</td>\n",
       "      <td>111.063177</td>\n",
       "    </tr>\n",
       "    <tr>\n",
       "      <th>20</th>\n",
       "      <td>96.900002</td>\n",
       "      <td>109.937759</td>\n",
       "    </tr>\n",
       "    <tr>\n",
       "      <th>21</th>\n",
       "      <td>109.099998</td>\n",
       "      <td>107.128703</td>\n",
       "    </tr>\n",
       "    <tr>\n",
       "      <th>22</th>\n",
       "      <td>110.800003</td>\n",
       "      <td>105.558880</td>\n",
       "    </tr>\n",
       "    <tr>\n",
       "      <th>23</th>\n",
       "      <td>108.400002</td>\n",
       "      <td>105.770657</td>\n",
       "    </tr>\n",
       "    <tr>\n",
       "      <th>24</th>\n",
       "      <td>111.199997</td>\n",
       "      <td>108.419490</td>\n",
       "    </tr>\n",
       "    <tr>\n",
       "      <th>25</th>\n",
       "      <td>115.000000</td>\n",
       "      <td>110.530681</td>\n",
       "    </tr>\n",
       "    <tr>\n",
       "      <th>26</th>\n",
       "      <td>110.300003</td>\n",
       "      <td>108.513830</td>\n",
       "    </tr>\n",
       "    <tr>\n",
       "      <th>27</th>\n",
       "      <td>108.800003</td>\n",
       "      <td>109.658370</td>\n",
       "    </tr>\n",
       "    <tr>\n",
       "      <th>28</th>\n",
       "      <td>102.900002</td>\n",
       "      <td>106.477392</td>\n",
       "    </tr>\n",
       "    <tr>\n",
       "      <th>29</th>\n",
       "      <td>104.800003</td>\n",
       "      <td>103.668890</td>\n",
       "    </tr>\n",
       "    <tr>\n",
       "      <th>30</th>\n",
       "      <td>90.500000</td>\n",
       "      <td>97.697427</td>\n",
       "    </tr>\n",
       "  </tbody>\n",
       "</table>\n",
       "</div>"
      ],
      "text/plain": [
       "     O_placebo   M_placebo\n",
       "0   132.199997  130.328720\n",
       "1   131.699997  132.265576\n",
       "2   140.000000  140.629175\n",
       "3   141.199997  144.998335\n",
       "4   145.800003  149.346264\n",
       "5   160.699997  156.497632\n",
       "6   161.500000  162.514099\n",
       "7   160.399994  160.766700\n",
       "8   160.300003  159.432343\n",
       "9   168.600006  157.602204\n",
       "10  158.100006  155.244979\n",
       "11  163.100006  156.971676\n",
       "12  157.699997  153.697444\n",
       "13  141.199997  144.697818\n",
       "14  128.899994  133.294914\n",
       "15  125.699997  129.887959\n",
       "16  124.800003  125.254342\n",
       "17  110.400002  117.927822\n",
       "18  114.300003  115.241996\n",
       "19  111.400002  111.063177\n",
       "20   96.900002  109.937759\n",
       "21  109.099998  107.128703\n",
       "22  110.800003  105.558880\n",
       "23  108.400002  105.770657\n",
       "24  111.199997  108.419490\n",
       "25  115.000000  110.530681\n",
       "26  110.300003  108.513830\n",
       "27  108.800003  109.658370\n",
       "28  102.900002  106.477392\n",
       "29  104.800003  103.668890\n",
       "30   90.500000   97.697427"
      ]
     },
     "execution_count": 85,
     "metadata": {},
     "output_type": "execute_result"
    }
   ],
   "source": [
    "M, a, b, tau = MC_NNM_with_cross_validation(O_placebo, 1-Z)\n",
    "M_broadcasted = M + a + b.T\n",
    "merged_last_rows = np.vstack([O[37, :], M_broadcasted[37, :]])\n",
    "merged_last_rows_df = pd.DataFrame({\n",
    "    'O_placebo': merged_last_rows[0],\n",
    "    'M_placebo': merged_last_rows[1]\n",
    "})\n",
    "merged_last_rows_df"
   ]
  },
  {
   "cell_type": "code",
   "execution_count": 86,
   "id": "e925117b",
   "metadata": {},
   "outputs": [
    {
     "data": {
      "image/png": "[encoded data removed]",
      "text/plain": [
       "<Figure size 1000x600 with 1 Axes>"
      ]
     },
     "metadata": {},
     "output_type": "display_data"
    }
   ],
   "source": [
    "plt.figure(figsize=(10, 6))\n",
    "plt.plot(np.arange(1970,2001), merged_last_rows_df[\"O_placebo\"], color='black', label='Actual', linestyle='-')\n",
    "plt.plot(np.arange(1970,2001), merged_last_rows_df[\"M_placebo\"], color='black', label='Imputed', linestyle='--')\n",
    "plt.xlabel('Year')\n",
    "plt.ylabel('Cigarette Sales')\n",
    "plt.title('Actual vs Imputed Cigarette Sales for State 39 (Placebo)')\n",
    "plt.legend()\n",
    "plt.axvline(x=1988, color='red', linestyle=':', linewidth=2)\n",
    "plt.text(1988 + 0.2, plt.ylim()[1]*0.95, \"Passage of Proposition 99\", color='red', rotation=90, va='top')\n",
    "plt.tight_layout()\n",
    "plt.show()"
   ]
  }
 ],
 "metadata": {
  "kernelspec": {
   "display_name": ".venv",
   "language": "python",
   "name": "python3"
  },
  "language_info": {
   "name": "python",
   "version": "3.10.17"
  }
 },
 "nbformat": 4,
 "nbformat_minor": 5
}
